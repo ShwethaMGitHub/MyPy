{
 "cells": [
  {
   "cell_type": "code",
   "execution_count": 1,
   "metadata": {},
   "outputs": [],
   "source": [
    "# read and write using pandas"
   ]
  },
  {
   "cell_type": "code",
   "execution_count": 2,
   "metadata": {},
   "outputs": [],
   "source": [
    "import os"
   ]
  },
  {
   "cell_type": "code",
   "execution_count": 3,
   "metadata": {},
   "outputs": [
    {
     "data": {
      "text/plain": [
       "'/Users/shwethamg/Workspace/Learning_Material/AG/Course/BT/Pandas-1'"
      ]
     },
     "execution_count": 3,
     "metadata": {},
     "output_type": "execute_result"
    }
   ],
   "source": [
    "# get the current working directory\n",
    "os.getcwd()"
   ]
  },
  {
   "cell_type": "code",
   "execution_count": 4,
   "metadata": {},
   "outputs": [
    {
     "ename": "FileNotFoundError",
     "evalue": "[Errno 2] No such file or directory: '/Users/shwethamg/Desktop/Learning_Material/AG/Course/BT/Pandas-1'",
     "output_type": "error",
     "traceback": [
      "\u001b[0;31m---------------------------------------------------------------------------\u001b[0m",
      "\u001b[0;31mFileNotFoundError\u001b[0m                         Traceback (most recent call last)",
      "\u001b[0;32m<ipython-input-4-de4c348a2270>\u001b[0m in \u001b[0;36m<module>\u001b[0;34m()\u001b[0m\n\u001b[1;32m      1\u001b[0m \u001b[0;31m#change current working directory\u001b[0m\u001b[0;34m\u001b[0m\u001b[0;34m\u001b[0m\u001b[0m\n\u001b[1;32m      2\u001b[0m \u001b[0mpath\u001b[0m\u001b[0;34m=\u001b[0m\u001b[0;34m\"/Users/shwethamg/Desktop/Learning_Material/AG/Course/BT/Pandas-1\"\u001b[0m\u001b[0;34m\u001b[0m\u001b[0m\n\u001b[0;32m----> 3\u001b[0;31m \u001b[0mos\u001b[0m\u001b[0;34m.\u001b[0m\u001b[0mchdir\u001b[0m\u001b[0;34m(\u001b[0m\u001b[0mpath\u001b[0m\u001b[0;34m)\u001b[0m\u001b[0;34m\u001b[0m\u001b[0m\n\u001b[0m",
      "\u001b[0;31mFileNotFoundError\u001b[0m: [Errno 2] No such file or directory: '/Users/shwethamg/Desktop/Learning_Material/AG/Course/BT/Pandas-1'"
     ]
    }
   ],
   "source": [
    "#change current working directory\n",
    "path=\"/Users/shwethamg/Desktop/Learning_Material/AG/Course/BT/Pandas-1\"\n",
    "os.chdir(path)"
   ]
  },
  {
   "cell_type": "code",
   "execution_count": null,
   "metadata": {},
   "outputs": [],
   "source": [
    "# list down all objects in the current working directory\n",
    "os.listdir(path)"
   ]
  },
  {
   "cell_type": "code",
   "execution_count": null,
   "metadata": {},
   "outputs": [],
   "source": [
    "import pandas as pd\n",
    "\n",
    "draft1 = pd.read_csv('test.csv')    # Supply the file name (path)\n",
    "\n",
    "draft1.head(1)                           # Check the first 6 rows"
   ]
  },
  {
   "cell_type": "code",
   "execution_count": null,
   "metadata": {},
   "outputs": [],
   "source": [
    "draft2 = pd.read_table('test.tsv')  # Read a tsv into a DataFrame\n",
    "\n",
    "draft2.head(6)                           # Check the first 6 rows"
   ]
  },
  {
   "cell_type": "code",
   "execution_count": null,
   "metadata": {},
   "outputs": [],
   "source": [
    "draftz = pd.read_excel('test_.xlsx')  # Read a tsv into a DataFrame\n",
    "\n",
    "draftz.head(1) "
   ]
  },
  {
   "cell_type": "code",
   "execution_count": null,
   "metadata": {},
   "outputs": [],
   "source": [
    "draft3 = pd.read_excel('test_.xlsx',        # Path to Excel file\n",
    "                       sheetname = 'Sheet1') # Name of sheet to read from\n",
    "\n",
    "draft3.head(6)                            # Check the first 6 rows"
   ]
  },
  {
   "cell_type": "code",
   "execution_count": null,
   "metadata": {},
   "outputs": [],
   "source": [
    "# Go to http://www.basketball-reference.com/leagues/NBA_2015_totals.html\n",
    "# click the CSV button and then copy some data to the clipboard\n",
    "\n",
    "BB_reference_data = pd.read_clipboard(sep=\",\")  # Read data from the clipboard\n",
    "\n",
    "BB_reference_data.ix[:, 0:15].head(15)   # Check 5 rows (10 columns only)"
   ]
  },
  {
   "cell_type": "code",
   "execution_count": null,
   "metadata": {},
   "outputs": [],
   "source": [
    "url = \"http://www.basketball-reference.com/leagues/NBA_2015_totals.html\"\n",
    "\n",
    "BB_data = pd.read_html(url)         # Read data from the specified url\n",
    "\n",
    "BB_data[0].ix[:, 0:10].head(5)      # Check 5 rows (10 columns only)"
   ]
  },
  {
   "cell_type": "code",
   "execution_count": null,
   "metadata": {},
   "outputs": [],
   "source": [
    "#save data to \n",
    "BB_reference_data.to_csv(\"bb_data.csv\") \n",
    "\n",
    "os.listdir(path)"
   ]
  },
  {
   "cell_type": "code",
   "execution_count": 6,
   "metadata": {},
   "outputs": [],
   "source": [
    "import numpy as np\n",
    "import pandas as pd\n",
    "import os\n",
    "import matplotlib.pyplot as plt\n",
    "%matplotlib inline"
   ]
  },
  {
   "cell_type": "code",
   "execution_count": 7,
   "metadata": {},
   "outputs": [],
   "source": [
    "titanic_train = pd.read_csv(\"https://gist.githubusercontent.com/michhar/2dfd2de0d4f8727f873422c5d959fff5/raw/ff414a1bcfcba32481e4d4e8db578e55872a2ca1/titanic.csv\",\n",
    "                           sep='\\t')   "
   ]
  },
  {
   "cell_type": "code",
   "execution_count": 8,
   "metadata": {},
   "outputs": [
    {
     "data": {
      "text/html": [
       "<div>\n",
       "<style scoped>\n",
       "    .dataframe tbody tr th:only-of-type {\n",
       "        vertical-align: middle;\n",
       "    }\n",
       "\n",
       "    .dataframe tbody tr th {\n",
       "        vertical-align: top;\n",
       "    }\n",
       "\n",
       "    .dataframe thead th {\n",
       "        text-align: right;\n",
       "    }\n",
       "</style>\n",
       "<table border=\"1\" class=\"dataframe\">\n",
       "  <thead>\n",
       "    <tr style=\"text-align: right;\">\n",
       "      <th></th>\n",
       "      <th>PassengerId</th>\n",
       "      <th>Survived</th>\n",
       "      <th>Pclass</th>\n",
       "      <th>Name</th>\n",
       "      <th>Sex</th>\n",
       "      <th>Age</th>\n",
       "      <th>SibSp</th>\n",
       "      <th>Parch</th>\n",
       "      <th>Ticket</th>\n",
       "      <th>Fare</th>\n",
       "      <th>Cabin</th>\n",
       "      <th>Embarked</th>\n",
       "    </tr>\n",
       "  </thead>\n",
       "  <tbody>\n",
       "    <tr>\n",
       "      <th>0</th>\n",
       "      <td>1</td>\n",
       "      <td>0</td>\n",
       "      <td>3</td>\n",
       "      <td>Braund, Mr. Owen Harris</td>\n",
       "      <td>male</td>\n",
       "      <td>22.0</td>\n",
       "      <td>1</td>\n",
       "      <td>0</td>\n",
       "      <td>A/5 21171</td>\n",
       "      <td>7.2500</td>\n",
       "      <td>NaN</td>\n",
       "      <td>S</td>\n",
       "    </tr>\n",
       "    <tr>\n",
       "      <th>1</th>\n",
       "      <td>2</td>\n",
       "      <td>1</td>\n",
       "      <td>1</td>\n",
       "      <td>Cumings, Mrs. John Bradley (Florence Briggs Th...</td>\n",
       "      <td>female</td>\n",
       "      <td>38.0</td>\n",
       "      <td>1</td>\n",
       "      <td>0</td>\n",
       "      <td>PC 17599</td>\n",
       "      <td>71.2833</td>\n",
       "      <td>C85</td>\n",
       "      <td>C</td>\n",
       "    </tr>\n",
       "    <tr>\n",
       "      <th>2</th>\n",
       "      <td>3</td>\n",
       "      <td>1</td>\n",
       "      <td>3</td>\n",
       "      <td>Heikkinen, Miss. Laina</td>\n",
       "      <td>female</td>\n",
       "      <td>26.0</td>\n",
       "      <td>0</td>\n",
       "      <td>0</td>\n",
       "      <td>STON/O2. 3101282</td>\n",
       "      <td>7.9250</td>\n",
       "      <td>NaN</td>\n",
       "      <td>S</td>\n",
       "    </tr>\n",
       "    <tr>\n",
       "      <th>3</th>\n",
       "      <td>4</td>\n",
       "      <td>1</td>\n",
       "      <td>1</td>\n",
       "      <td>Futrelle, Mrs. Jacques Heath (Lily May Peel)</td>\n",
       "      <td>female</td>\n",
       "      <td>35.0</td>\n",
       "      <td>1</td>\n",
       "      <td>0</td>\n",
       "      <td>113803</td>\n",
       "      <td>53.1000</td>\n",
       "      <td>C123</td>\n",
       "      <td>S</td>\n",
       "    </tr>\n",
       "    <tr>\n",
       "      <th>4</th>\n",
       "      <td>5</td>\n",
       "      <td>0</td>\n",
       "      <td>3</td>\n",
       "      <td>Allen, Mr. William Henry</td>\n",
       "      <td>male</td>\n",
       "      <td>35.0</td>\n",
       "      <td>0</td>\n",
       "      <td>0</td>\n",
       "      <td>373450</td>\n",
       "      <td>8.0500</td>\n",
       "      <td>NaN</td>\n",
       "      <td>S</td>\n",
       "    </tr>\n",
       "  </tbody>\n",
       "</table>\n",
       "</div>"
      ],
      "text/plain": [
       "   PassengerId  Survived  Pclass  \\\n",
       "0            1         0       3   \n",
       "1            2         1       1   \n",
       "2            3         1       3   \n",
       "3            4         1       1   \n",
       "4            5         0       3   \n",
       "\n",
       "                                                Name     Sex   Age  SibSp  \\\n",
       "0                            Braund, Mr. Owen Harris    male  22.0      1   \n",
       "1  Cumings, Mrs. John Bradley (Florence Briggs Th...  female  38.0      1   \n",
       "2                             Heikkinen, Miss. Laina  female  26.0      0   \n",
       "3       Futrelle, Mrs. Jacques Heath (Lily May Peel)  female  35.0      1   \n",
       "4                           Allen, Mr. William Henry    male  35.0      0   \n",
       "\n",
       "   Parch            Ticket     Fare Cabin Embarked  \n",
       "0      0         A/5 21171   7.2500   NaN        S  \n",
       "1      0          PC 17599  71.2833   C85        C  \n",
       "2      0  STON/O2. 3101282   7.9250   NaN        S  \n",
       "3      0            113803  53.1000  C123        S  \n",
       "4      0            373450   8.0500   NaN        S  "
      ]
     },
     "execution_count": 8,
     "metadata": {},
     "output_type": "execute_result"
    }
   ],
   "source": [
    "titanic_train.head()"
   ]
  },
  {
   "cell_type": "code",
   "execution_count": 9,
   "metadata": {},
   "outputs": [
    {
     "data": {
      "text/plain": [
       "(156, 12)"
      ]
     },
     "execution_count": 9,
     "metadata": {},
     "output_type": "execute_result"
    }
   ],
   "source": [
    "titanic_train.shape "
   ]
  },
  {
   "cell_type": "code",
   "execution_count": 10,
   "metadata": {},
   "outputs": [
    {
     "data": {
      "text/plain": [
       "PassengerId      int64\n",
       "Survived         int64\n",
       "Pclass           int64\n",
       "Name            object\n",
       "Sex             object\n",
       "Age            float64\n",
       "SibSp            int64\n",
       "Parch            int64\n",
       "Ticket          object\n",
       "Fare           float64\n",
       "Cabin           object\n",
       "Embarked        object\n",
       "dtype: object"
      ]
     },
     "execution_count": 10,
     "metadata": {},
     "output_type": "execute_result"
    }
   ],
   "source": [
    "titanic_train.dtypes"
   ]
  },
  {
   "cell_type": "code",
   "execution_count": 11,
   "metadata": {},
   "outputs": [
    {
     "name": "stdout",
     "output_type": "stream",
     "text": [
      "       PassengerId    Survived      Pclass         Age       SibSp  \\\n",
      "count   156.000000  156.000000  156.000000  126.000000  156.000000   \n",
      "mean     78.500000    0.346154    2.423077   28.141508    0.615385   \n",
      "std      45.177428    0.477275    0.795459   14.613880    1.056235   \n",
      "min       1.000000    0.000000    1.000000    0.830000    0.000000   \n",
      "25%      39.750000    0.000000    2.000000   19.000000    0.000000   \n",
      "50%      78.500000    0.000000    3.000000   26.000000    0.000000   \n",
      "75%     117.250000    1.000000    3.000000   35.000000    1.000000   \n",
      "max     156.000000    1.000000    3.000000   71.000000    5.000000   \n",
      "\n",
      "            Parch        Fare  \n",
      "count  156.000000  156.000000  \n",
      "mean     0.397436   28.109587  \n",
      "std      0.870146   39.401047  \n",
      "min      0.000000    6.750000  \n",
      "25%      0.000000    8.003150  \n",
      "50%      0.000000   14.454200  \n",
      "75%      0.000000   30.371850  \n",
      "max      5.000000  263.000000  \n"
     ]
    }
   ],
   "source": [
    "print( titanic_train.describe() )"
   ]
  },
  {
   "cell_type": "code",
   "execution_count": 59,
   "metadata": {},
   "outputs": [
    {
     "name": "stdout",
     "output_type": "stream",
     "text": [
      "Index(['Name', 'Sex', 'Ticket', 'Cabin', 'Embarked'], dtype='object')\n"
     ]
    },
    {
     "data": {
      "text/html": [
       "<div>\n",
       "<style scoped>\n",
       "    .dataframe tbody tr th:only-of-type {\n",
       "        vertical-align: middle;\n",
       "    }\n",
       "\n",
       "    .dataframe tbody tr th {\n",
       "        vertical-align: top;\n",
       "    }\n",
       "\n",
       "    .dataframe thead th {\n",
       "        text-align: right;\n",
       "    }\n",
       "</style>\n",
       "<table border=\"1\" class=\"dataframe\">\n",
       "  <thead>\n",
       "    <tr style=\"text-align: right;\">\n",
       "      <th></th>\n",
       "      <th>Name</th>\n",
       "      <th>Sex</th>\n",
       "      <th>Ticket</th>\n",
       "      <th>Cabin</th>\n",
       "      <th>Embarked</th>\n",
       "    </tr>\n",
       "  </thead>\n",
       "  <tbody>\n",
       "    <tr>\n",
       "      <th>count</th>\n",
       "      <td>156</td>\n",
       "      <td>156</td>\n",
       "      <td>156</td>\n",
       "      <td>31</td>\n",
       "      <td>155</td>\n",
       "    </tr>\n",
       "    <tr>\n",
       "      <th>unique</th>\n",
       "      <td>156</td>\n",
       "      <td>2</td>\n",
       "      <td>145</td>\n",
       "      <td>28</td>\n",
       "      <td>3</td>\n",
       "    </tr>\n",
       "    <tr>\n",
       "      <th>top</th>\n",
       "      <td>Andersson, Miss. Erna Alexandra</td>\n",
       "      <td>male</td>\n",
       "      <td>347082</td>\n",
       "      <td>C123</td>\n",
       "      <td>S</td>\n",
       "    </tr>\n",
       "    <tr>\n",
       "      <th>freq</th>\n",
       "      <td>1</td>\n",
       "      <td>100</td>\n",
       "      <td>2</td>\n",
       "      <td>2</td>\n",
       "      <td>110</td>\n",
       "    </tr>\n",
       "  </tbody>\n",
       "</table>\n",
       "</div>"
      ],
      "text/plain": [
       "                                   Name   Sex  Ticket Cabin Embarked\n",
       "count                               156   156     156    31      155\n",
       "unique                              156     2     145    28        3\n",
       "top     Andersson, Miss. Erna Alexandra  male  347082  C123        S\n",
       "freq                                  1   100       2     2      110"
      ]
     },
     "execution_count": 59,
     "metadata": {},
     "output_type": "execute_result"
    }
   ],
   "source": [
    "categorical = titanic_train.dtypes[titanic_train.dtypes == \"object\"].index\n",
    "print(categorical)\n",
    "\n",
    "titanic_train[categorical].describe()"
   ]
  },
  {
   "cell_type": "code",
   "execution_count": 63,
   "metadata": {},
   "outputs": [
    {
     "ename": "KeyError",
     "evalue": "'PassengerId'",
     "output_type": "error",
     "traceback": [
      "\u001b[0;31m---------------------------------------------------------------------------\u001b[0m",
      "\u001b[0;31mKeyError\u001b[0m                                  Traceback (most recent call last)",
      "\u001b[0;32m~/anaconda3/lib/python3.7/site-packages/pandas/core/indexes/base.py\u001b[0m in \u001b[0;36mget_loc\u001b[0;34m(self, key, method, tolerance)\u001b[0m\n\u001b[1;32m   3077\u001b[0m             \u001b[0;32mtry\u001b[0m\u001b[0;34m:\u001b[0m\u001b[0;34m\u001b[0m\u001b[0m\n\u001b[0;32m-> 3078\u001b[0;31m                 \u001b[0;32mreturn\u001b[0m \u001b[0mself\u001b[0m\u001b[0;34m.\u001b[0m\u001b[0m_engine\u001b[0m\u001b[0;34m.\u001b[0m\u001b[0mget_loc\u001b[0m\u001b[0;34m(\u001b[0m\u001b[0mkey\u001b[0m\u001b[0;34m)\u001b[0m\u001b[0;34m\u001b[0m\u001b[0m\n\u001b[0m\u001b[1;32m   3079\u001b[0m             \u001b[0;32mexcept\u001b[0m \u001b[0mKeyError\u001b[0m\u001b[0;34m:\u001b[0m\u001b[0;34m\u001b[0m\u001b[0m\n",
      "\u001b[0;32mpandas/_libs/index.pyx\u001b[0m in \u001b[0;36mpandas._libs.index.IndexEngine.get_loc\u001b[0;34m()\u001b[0m\n",
      "\u001b[0;32mpandas/_libs/index.pyx\u001b[0m in \u001b[0;36mpandas._libs.index.IndexEngine.get_loc\u001b[0;34m()\u001b[0m\n",
      "\u001b[0;32mpandas/_libs/hashtable_class_helper.pxi\u001b[0m in \u001b[0;36mpandas._libs.hashtable.PyObjectHashTable.get_item\u001b[0;34m()\u001b[0m\n",
      "\u001b[0;32mpandas/_libs/hashtable_class_helper.pxi\u001b[0m in \u001b[0;36mpandas._libs.hashtable.PyObjectHashTable.get_item\u001b[0;34m()\u001b[0m\n",
      "\u001b[0;31mKeyError\u001b[0m: 'PassengerId'",
      "\nDuring handling of the above exception, another exception occurred:\n",
      "\u001b[0;31mKeyError\u001b[0m                                  Traceback (most recent call last)",
      "\u001b[0;32m<ipython-input-63-1ed4e3849077>\u001b[0m in \u001b[0;36m<module>\u001b[0;34m()\u001b[0m\n\u001b[0;32m----> 1\u001b[0;31m \u001b[0;32mdel\u001b[0m \u001b[0mtitanic_train\u001b[0m\u001b[0;34m[\u001b[0m\u001b[0;34m\"PassengerId\"\u001b[0m\u001b[0;34m]\u001b[0m     \u001b[0;31m# Remove PassengerId\u001b[0m\u001b[0;34m\u001b[0m\u001b[0m\n\u001b[0m",
      "\u001b[0;32m~/anaconda3/lib/python3.7/site-packages/pandas/core/generic.py\u001b[0m in \u001b[0;36m__delitem__\u001b[0;34m(self, key)\u001b[0m\n\u001b[1;32m   2741\u001b[0m             \u001b[0;31m# there was no match, this call should raise the appropriate\u001b[0m\u001b[0;34m\u001b[0m\u001b[0;34m\u001b[0m\u001b[0m\n\u001b[1;32m   2742\u001b[0m             \u001b[0;31m# exception:\u001b[0m\u001b[0;34m\u001b[0m\u001b[0;34m\u001b[0m\u001b[0m\n\u001b[0;32m-> 2743\u001b[0;31m             \u001b[0mself\u001b[0m\u001b[0;34m.\u001b[0m\u001b[0m_data\u001b[0m\u001b[0;34m.\u001b[0m\u001b[0mdelete\u001b[0m\u001b[0;34m(\u001b[0m\u001b[0mkey\u001b[0m\u001b[0;34m)\u001b[0m\u001b[0;34m\u001b[0m\u001b[0m\n\u001b[0m\u001b[1;32m   2744\u001b[0m \u001b[0;34m\u001b[0m\u001b[0m\n\u001b[1;32m   2745\u001b[0m         \u001b[0;31m# delete from the caches\u001b[0m\u001b[0;34m\u001b[0m\u001b[0;34m\u001b[0m\u001b[0m\n",
      "\u001b[0;32m~/anaconda3/lib/python3.7/site-packages/pandas/core/internals.py\u001b[0m in \u001b[0;36mdelete\u001b[0;34m(self, item)\u001b[0m\n\u001b[1;32m   4172\u001b[0m         \u001b[0mDelete\u001b[0m \u001b[0mselected\u001b[0m \u001b[0mitem\u001b[0m \u001b[0;34m(\u001b[0m\u001b[0mitems\u001b[0m \u001b[0;32mif\u001b[0m \u001b[0mnon\u001b[0m\u001b[0;34m-\u001b[0m\u001b[0munique\u001b[0m\u001b[0;34m)\u001b[0m \u001b[0;32min\u001b[0m\u001b[0;34m-\u001b[0m\u001b[0mplace\u001b[0m\u001b[0;34m.\u001b[0m\u001b[0;34m\u001b[0m\u001b[0m\n\u001b[1;32m   4173\u001b[0m         \"\"\"\n\u001b[0;32m-> 4174\u001b[0;31m         \u001b[0mindexer\u001b[0m \u001b[0;34m=\u001b[0m \u001b[0mself\u001b[0m\u001b[0;34m.\u001b[0m\u001b[0mitems\u001b[0m\u001b[0;34m.\u001b[0m\u001b[0mget_loc\u001b[0m\u001b[0;34m(\u001b[0m\u001b[0mitem\u001b[0m\u001b[0;34m)\u001b[0m\u001b[0;34m\u001b[0m\u001b[0m\n\u001b[0m\u001b[1;32m   4175\u001b[0m \u001b[0;34m\u001b[0m\u001b[0m\n\u001b[1;32m   4176\u001b[0m         \u001b[0mis_deleted\u001b[0m \u001b[0;34m=\u001b[0m \u001b[0mnp\u001b[0m\u001b[0;34m.\u001b[0m\u001b[0mzeros\u001b[0m\u001b[0;34m(\u001b[0m\u001b[0mself\u001b[0m\u001b[0;34m.\u001b[0m\u001b[0mshape\u001b[0m\u001b[0;34m[\u001b[0m\u001b[0;36m0\u001b[0m\u001b[0;34m]\u001b[0m\u001b[0;34m,\u001b[0m \u001b[0mdtype\u001b[0m\u001b[0;34m=\u001b[0m\u001b[0mnp\u001b[0m\u001b[0;34m.\u001b[0m\u001b[0mbool_\u001b[0m\u001b[0;34m)\u001b[0m\u001b[0;34m\u001b[0m\u001b[0m\n",
      "\u001b[0;32m~/anaconda3/lib/python3.7/site-packages/pandas/core/indexes/base.py\u001b[0m in \u001b[0;36mget_loc\u001b[0;34m(self, key, method, tolerance)\u001b[0m\n\u001b[1;32m   3078\u001b[0m                 \u001b[0;32mreturn\u001b[0m \u001b[0mself\u001b[0m\u001b[0;34m.\u001b[0m\u001b[0m_engine\u001b[0m\u001b[0;34m.\u001b[0m\u001b[0mget_loc\u001b[0m\u001b[0;34m(\u001b[0m\u001b[0mkey\u001b[0m\u001b[0;34m)\u001b[0m\u001b[0;34m\u001b[0m\u001b[0m\n\u001b[1;32m   3079\u001b[0m             \u001b[0;32mexcept\u001b[0m \u001b[0mKeyError\u001b[0m\u001b[0;34m:\u001b[0m\u001b[0;34m\u001b[0m\u001b[0m\n\u001b[0;32m-> 3080\u001b[0;31m                 \u001b[0;32mreturn\u001b[0m \u001b[0mself\u001b[0m\u001b[0;34m.\u001b[0m\u001b[0m_engine\u001b[0m\u001b[0;34m.\u001b[0m\u001b[0mget_loc\u001b[0m\u001b[0;34m(\u001b[0m\u001b[0mself\u001b[0m\u001b[0;34m.\u001b[0m\u001b[0m_maybe_cast_indexer\u001b[0m\u001b[0;34m(\u001b[0m\u001b[0mkey\u001b[0m\u001b[0;34m)\u001b[0m\u001b[0;34m)\u001b[0m\u001b[0;34m\u001b[0m\u001b[0m\n\u001b[0m\u001b[1;32m   3081\u001b[0m \u001b[0;34m\u001b[0m\u001b[0m\n\u001b[1;32m   3082\u001b[0m         \u001b[0mindexer\u001b[0m \u001b[0;34m=\u001b[0m \u001b[0mself\u001b[0m\u001b[0;34m.\u001b[0m\u001b[0mget_indexer\u001b[0m\u001b[0;34m(\u001b[0m\u001b[0;34m[\u001b[0m\u001b[0mkey\u001b[0m\u001b[0;34m]\u001b[0m\u001b[0;34m,\u001b[0m \u001b[0mmethod\u001b[0m\u001b[0;34m=\u001b[0m\u001b[0mmethod\u001b[0m\u001b[0;34m,\u001b[0m \u001b[0mtolerance\u001b[0m\u001b[0;34m=\u001b[0m\u001b[0mtolerance\u001b[0m\u001b[0;34m)\u001b[0m\u001b[0;34m\u001b[0m\u001b[0m\n",
      "\u001b[0;32mpandas/_libs/index.pyx\u001b[0m in \u001b[0;36mpandas._libs.index.IndexEngine.get_loc\u001b[0;34m()\u001b[0m\n",
      "\u001b[0;32mpandas/_libs/index.pyx\u001b[0m in \u001b[0;36mpandas._libs.index.IndexEngine.get_loc\u001b[0;34m()\u001b[0m\n",
      "\u001b[0;32mpandas/_libs/hashtable_class_helper.pxi\u001b[0m in \u001b[0;36mpandas._libs.hashtable.PyObjectHashTable.get_item\u001b[0;34m()\u001b[0m\n",
      "\u001b[0;32mpandas/_libs/hashtable_class_helper.pxi\u001b[0m in \u001b[0;36mpandas._libs.hashtable.PyObjectHashTable.get_item\u001b[0;34m()\u001b[0m\n",
      "\u001b[0;31mKeyError\u001b[0m: 'PassengerId'"
     ]
    }
   ],
   "source": [
    "del titanic_train[\"PassengerId\"]     # Remove PassengerId"
   ]
  },
  {
   "cell_type": "code",
   "execution_count": 64,
   "metadata": {},
   "outputs": [
    {
     "name": "stdout",
     "output_type": "stream",
     "text": [
      "     Survived  Pclass                                               Name  \\\n",
      "0           0       3                            Braund, Mr. Owen Harris   \n",
      "1           1       1  Cumings, Mrs. John Bradley (Florence Briggs Th...   \n",
      "2           1       3                             Heikkinen, Miss. Laina   \n",
      "3           1       1       Futrelle, Mrs. Jacques Heath (Lily May Peel)   \n",
      "4           0       3                           Allen, Mr. William Henry   \n",
      "5           0       3                                   Moran, Mr. James   \n",
      "6           0       1                            McCarthy, Mr. Timothy J   \n",
      "7           0       3                     Palsson, Master. Gosta Leonard   \n",
      "8           1       3  Johnson, Mrs. Oscar W (Elisabeth Vilhelmina Berg)   \n",
      "9           1       2                Nasser, Mrs. Nicholas (Adele Achem)   \n",
      "10          1       3                    Sandstrom, Miss. Marguerite Rut   \n",
      "11          1       1                           Bonnell, Miss. Elizabeth   \n",
      "12          0       3                     Saundercock, Mr. William Henry   \n",
      "13          0       3                        Andersson, Mr. Anders Johan   \n",
      "14          0       3               Vestrom, Miss. Hulda Amanda Adolfina   \n",
      "15          1       2                   Hewlett, Mrs. (Mary D Kingcome)    \n",
      "16          0       3                               Rice, Master. Eugene   \n",
      "17          1       2                       Williams, Mr. Charles Eugene   \n",
      "18          0       3  Vander Planke, Mrs. Julius (Emelia Maria Vande...   \n",
      "19          1       3                            Masselmani, Mrs. Fatima   \n",
      "20          0       2                               Fynney, Mr. Joseph J   \n",
      "21          1       2                              Beesley, Mr. Lawrence   \n",
      "22          1       3                        McGowan, Miss. Anna \"Annie\"   \n",
      "23          1       1                       Sloper, Mr. William Thompson   \n",
      "24          0       3                      Palsson, Miss. Torborg Danira   \n",
      "25          1       3  Asplund, Mrs. Carl Oscar (Selma Augusta Emilia...   \n",
      "26          0       3                            Emir, Mr. Farred Chehab   \n",
      "27          0       1                     Fortune, Mr. Charles Alexander   \n",
      "28          1       3                      O'Dwyer, Miss. Ellen \"Nellie\"   \n",
      "29          0       3                                Todoroff, Mr. Lalio   \n",
      "..        ...     ...                                                ...   \n",
      "126         0       3                                McMahon, Mr. Martin   \n",
      "127         1       3                          Madsen, Mr. Fridtjof Arne   \n",
      "128         1       3                                  Peter, Miss. Anna   \n",
      "129         0       3                                 Ekstrom, Mr. Johan   \n",
      "130         0       3                               Drazenoic, Mr. Jozef   \n",
      "131         0       3                     Coelho, Mr. Domingos Fernandeo   \n",
      "132         0       3     Robins, Mrs. Alexander A (Grace Charity Laury)   \n",
      "133         1       2      Weisz, Mrs. Leopold (Mathilde Francoise Pede)   \n",
      "134         0       2                     Sobey, Mr. Samuel James Hayden   \n",
      "135         0       2                                 Richard, Mr. Emile   \n",
      "136         1       1                       Newsom, Miss. Helen Monypeny   \n",
      "137         0       1                        Futrelle, Mr. Jacques Heath   \n",
      "138         0       3                                Osen, Mr. Olaf Elon   \n",
      "139         0       1                                 Giglio, Mr. Victor   \n",
      "140         0       3                      Boulos, Mrs. Joseph (Sultana)   \n",
      "141         1       3                           Nysten, Miss. Anna Sofia   \n",
      "142         1       3  Hakkarainen, Mrs. Pekka Pietari (Elin Matilda ...   \n",
      "143         0       3                                Burke, Mr. Jeremiah   \n",
      "144         0       2                         Andrew, Mr. Edgardo Samuel   \n",
      "145         0       2                       Nicholls, Mr. Joseph Charles   \n",
      "146         1       3       Andersson, Mr. August Edvard (\"Wennerstrom\")   \n",
      "147         0       3                   Ford, Miss. Robina Maggie \"Ruby\"   \n",
      "148         0       2           Navratil, Mr. Michel (\"Louis M Hoffman\")   \n",
      "149         0       2                  Byles, Rev. Thomas Roussel Davids   \n",
      "150         0       2                         Bateman, Rev. Robert James   \n",
      "151         1       1                  Pears, Mrs. Thomas (Edith Wearne)   \n",
      "152         0       3                                   Meo, Mr. Alfonzo   \n",
      "153         0       3                    van Billiard, Mr. Austin Blyler   \n",
      "154         0       3                              Olsen, Mr. Ole Martin   \n",
      "155         0       1                        Williams, Mr. Charles Duane   \n",
      "\n",
      "        Sex   Age  SibSp  Parch              Ticket      Fare        Cabin  \\\n",
      "0      male  22.0      1      0           A/5 21171    7.2500          NaN   \n",
      "1    female  38.0      1      0            PC 17599   71.2833          C85   \n",
      "2    female  26.0      0      0    STON/O2. 3101282    7.9250          NaN   \n",
      "3    female  35.0      1      0              113803   53.1000         C123   \n",
      "4      male  35.0      0      0              373450    8.0500          NaN   \n",
      "5      male   NaN      0      0              330877    8.4583          NaN   \n",
      "6      male  54.0      0      0               17463   51.8625          E46   \n",
      "7      male   2.0      3      1              349909   21.0750          NaN   \n",
      "8    female  27.0      0      2              347742   11.1333          NaN   \n",
      "9    female  14.0      1      0              237736   30.0708          NaN   \n",
      "10   female   4.0      1      1             PP 9549   16.7000           G6   \n",
      "11   female  58.0      0      0              113783   26.5500         C103   \n",
      "12     male  20.0      0      0           A/5. 2151    8.0500          NaN   \n",
      "13     male  39.0      1      5              347082   31.2750          NaN   \n",
      "14   female  14.0      0      0              350406    7.8542          NaN   \n",
      "15   female  55.0      0      0              248706   16.0000          NaN   \n",
      "16     male   2.0      4      1              382652   29.1250          NaN   \n",
      "17     male   NaN      0      0              244373   13.0000          NaN   \n",
      "18   female  31.0      1      0              345763   18.0000          NaN   \n",
      "19   female   NaN      0      0                2649    7.2250          NaN   \n",
      "20     male  35.0      0      0              239865   26.0000          NaN   \n",
      "21     male  34.0      0      0              248698   13.0000          D56   \n",
      "22   female  15.0      0      0              330923    8.0292          NaN   \n",
      "23     male  28.0      0      0              113788   35.5000           A6   \n",
      "24   female   8.0      3      1              349909   21.0750          NaN   \n",
      "25   female  38.0      1      5              347077   31.3875          NaN   \n",
      "26     male   NaN      0      0                2631    7.2250          NaN   \n",
      "27     male  19.0      3      2               19950  263.0000  C23 C25 C27   \n",
      "28   female   NaN      0      0              330959    7.8792          NaN   \n",
      "29     male   NaN      0      0              349216    7.8958          NaN   \n",
      "..      ...   ...    ...    ...                 ...       ...          ...   \n",
      "126    male   NaN      0      0              370372    7.7500          NaN   \n",
      "127    male  24.0      0      0             C 17369    7.1417          NaN   \n",
      "128  female   NaN      1      1                2668   22.3583        F E69   \n",
      "129    male  45.0      0      0              347061    6.9750          NaN   \n",
      "130    male  33.0      0      0              349241    7.8958          NaN   \n",
      "131    male  20.0      0      0  SOTON/O.Q. 3101307    7.0500          NaN   \n",
      "132  female  47.0      1      0           A/5. 3337   14.5000          NaN   \n",
      "133  female  29.0      1      0              228414   26.0000          NaN   \n",
      "134    male  25.0      0      0          C.A. 29178   13.0000          NaN   \n",
      "135    male  23.0      0      0       SC/PARIS 2133   15.0458          NaN   \n",
      "136  female  19.0      0      2               11752   26.2833          D47   \n",
      "137    male  37.0      1      0              113803   53.1000         C123   \n",
      "138    male  16.0      0      0                7534    9.2167          NaN   \n",
      "139    male  24.0      0      0            PC 17593   79.2000          B86   \n",
      "140  female   NaN      0      2                2678   15.2458          NaN   \n",
      "141  female  22.0      0      0              347081    7.7500          NaN   \n",
      "142  female  24.0      1      0    STON/O2. 3101279   15.8500          NaN   \n",
      "143    male  19.0      0      0              365222    6.7500          NaN   \n",
      "144    male  18.0      0      0              231945   11.5000          NaN   \n",
      "145    male  19.0      1      1          C.A. 33112   36.7500          NaN   \n",
      "146    male  27.0      0      0              350043    7.7958          NaN   \n",
      "147  female   9.0      2      2          W./C. 6608   34.3750          NaN   \n",
      "148    male  36.5      0      2              230080   26.0000           F2   \n",
      "149    male  42.0      0      0              244310   13.0000          NaN   \n",
      "150    male  51.0      0      0         S.O.P. 1166   12.5250          NaN   \n",
      "151  female  22.0      1      0              113776   66.6000           C2   \n",
      "152    male  55.5      0      0          A.5. 11206    8.0500          NaN   \n",
      "153    male  40.5      0      2            A/5. 851   14.5000          NaN   \n",
      "154    male   NaN      0      0           Fa 265302    7.3125          NaN   \n",
      "155    male  51.0      0      1            PC 17597   61.3792          NaN   \n",
      "\n",
      "    Embarked  \n",
      "0          S  \n",
      "1          C  \n",
      "2          S  \n",
      "3          S  \n",
      "4          S  \n",
      "5          Q  \n",
      "6          S  \n",
      "7          S  \n",
      "8          S  \n",
      "9          C  \n",
      "10         S  \n",
      "11         S  \n",
      "12         S  \n",
      "13         S  \n",
      "14         S  \n",
      "15         S  \n",
      "16         Q  \n",
      "17         S  \n",
      "18         S  \n",
      "19         C  \n",
      "20         S  \n",
      "21         S  \n",
      "22         Q  \n",
      "23         S  \n",
      "24         S  \n",
      "25         S  \n",
      "26         C  \n",
      "27         S  \n",
      "28         Q  \n",
      "29         S  \n",
      "..       ...  \n",
      "126        Q  \n",
      "127        S  \n",
      "128        C  \n",
      "129        S  \n",
      "130        C  \n",
      "131        S  \n",
      "132        S  \n",
      "133        S  \n",
      "134        S  \n",
      "135        C  \n",
      "136        S  \n",
      "137        S  \n",
      "138        S  \n",
      "139        C  \n",
      "140        C  \n",
      "141        S  \n",
      "142        S  \n",
      "143        Q  \n",
      "144        S  \n",
      "145        S  \n",
      "146        S  \n",
      "147        S  \n",
      "148        S  \n",
      "149        S  \n",
      "150        S  \n",
      "151        S  \n",
      "152        S  \n",
      "153        S  \n",
      "154        S  \n",
      "155        C  \n",
      "\n",
      "[156 rows x 11 columns]\n"
     ]
    }
   ],
   "source": [
    "print(titanic_train)"
   ]
  },
  {
   "cell_type": "code",
   "execution_count": 65,
   "metadata": {},
   "outputs": [
    {
     "data": {
      "text/plain": [
       "['Ahlin, Mrs. Johan (Johanna Persdotter Larsson)',\n",
       " 'Allen, Mr. William Henry',\n",
       " 'Andersson, Miss. Ellis Anna Maria',\n",
       " 'Andersson, Miss. Erna Alexandra',\n",
       " 'Andersson, Mr. Anders Johan',\n",
       " 'Andersson, Mr. August Edvard (\"Wennerstrom\")',\n",
       " 'Andreasson, Mr. Paul Edvin',\n",
       " 'Andrew, Mr. Edgardo Samuel',\n",
       " 'Arnold-Franchi, Mrs. Josef (Josefine Franchi)',\n",
       " 'Asplund, Mrs. Carl Oscar (Selma Augusta Emilia Johansson)',\n",
       " 'Attalah, Miss. Malake',\n",
       " 'Backstrom, Mrs. Karl Alfred (Maria Mathilda Gustafsson)',\n",
       " 'Barton, Mr. David John',\n",
       " 'Bateman, Rev. Robert James',\n",
       " 'Baxter, Mr. Quigg Edmond']"
      ]
     },
     "execution_count": 65,
     "metadata": {},
     "output_type": "execute_result"
    }
   ],
   "source": [
    "sorted(titanic_train[\"Name\"])[0:15]   # Check the first 15 sorted names"
   ]
  },
  {
   "cell_type": "code",
   "execution_count": 66,
   "metadata": {},
   "outputs": [
    {
     "data": {
      "text/plain": [
       "count                                 156\n",
       "unique                                156\n",
       "top       Andersson, Miss. Erna Alexandra\n",
       "freq                                    1\n",
       "Name: Name, dtype: object"
      ]
     },
     "execution_count": 66,
     "metadata": {},
     "output_type": "execute_result"
    }
   ],
   "source": [
    "titanic_train[\"Name\"].describe()"
   ]
  },
  {
   "cell_type": "code",
   "execution_count": 14,
   "metadata": {},
   "outputs": [
    {
     "data": {
      "text/plain": [
       "count      156\n",
       "unique       2\n",
       "top       male\n",
       "freq       100\n",
       "Name: Sex, dtype: object"
      ]
     },
     "execution_count": 14,
     "metadata": {},
     "output_type": "execute_result"
    }
   ],
   "source": [
    "#SMG\n",
    "titanic_train[\"Sex\"].describe()"
   ]
  },
  {
   "cell_type": "code",
   "execution_count": null,
   "metadata": {},
   "outputs": [],
   "source": [
    "print(titanic_train[\"Ticket\"][0:15]) # Check the first 15 tickets\n"
   ]
  },
  {
   "cell_type": "code",
   "execution_count": null,
   "metadata": {},
   "outputs": [],
   "source": [
    "titanic_train[\"Ticket\"].describe()"
   ]
  },
  {
   "cell_type": "code",
   "execution_count": null,
   "metadata": {},
   "outputs": [],
   "source": [
    "del titanic_train[\"Ticket\"]        # Remove Ticket"
   ]
  },
  {
   "cell_type": "code",
   "execution_count": null,
   "metadata": {},
   "outputs": [],
   "source": [
    "titanic_train[\"Cabin\"][0:15]       # Check the first 15 tickets"
   ]
  },
  {
   "cell_type": "code",
   "execution_count": null,
   "metadata": {},
   "outputs": [],
   "source": [
    "titanic_train[\"Cabin\"].describe()  # Check number of unique cabins"
   ]
  },
  {
   "cell_type": "code",
   "execution_count": null,
   "metadata": {},
   "outputs": [],
   "source": [
    "new_survived = pd.Categorical(titanic_train[\"Survived\"])\n",
    "new_survived = new_survived.rename_categories([\"Died\",\"Survived\"])              \n",
    "\n",
    "new_survived.describe()"
   ]
  },
  {
   "cell_type": "code",
   "execution_count": null,
   "metadata": {},
   "outputs": [],
   "source": [
    "new_Pclass = pd.Categorical(titanic_train[\"Pclass\"],\n",
    "                           ordered=True)\n",
    "\n",
    "new_Pclass = new_Pclass.rename_categories([\"Class1\",\"Class2\",\"Class3\"])     \n",
    "\n",
    "new_Pclass.describe()"
   ]
  },
  {
   "cell_type": "code",
   "execution_count": null,
   "metadata": {},
   "outputs": [],
   "source": [
    "titanic_train[\"Pclass\"] = new_Pclass"
   ]
  },
  {
   "cell_type": "code",
   "execution_count": null,
   "metadata": {},
   "outputs": [],
   "source": [
    "print(titanic_train[\"Pclass\"])\n",
    "new_Pclass"
   ]
  },
  {
   "cell_type": "code",
   "execution_count": null,
   "metadata": {},
   "outputs": [],
   "source": [
    "titanic_train[\"Cabin\"].unique()   # Check unique cabins"
   ]
  },
  {
   "cell_type": "code",
   "execution_count": null,
   "metadata": {},
   "outputs": [],
   "source": [
    "#print(titanic_train[\"Cabin\"])\n",
    "char_cabin = titanic_train[\"Cabin\"].astype(str) # Convert data to str\n",
    "\n",
    "new_Cabin = np.array([cabin[0] for cabin in char_cabin]) # Take first letter\n",
    "\n",
    "new_Cabin = pd.Categorical(new_Cabin)\n",
    "\n",
    "new_Cabin.describe()\n",
    "print(new_Cabin)"
   ]
  },
  {
   "cell_type": "code",
   "execution_count": null,
   "metadata": {},
   "outputs": [],
   "source": [
    "titanic_train[\"Cabin\"] = new_Cabin"
   ]
  },
  {
   "cell_type": "code",
   "execution_count": null,
   "metadata": {},
   "outputs": [],
   "source": [
    "dummy_vector = pd.Series([1,None,3,None,7,8])\n",
    "\n",
    "dummy_vector.isnull()"
   ]
  },
  {
   "cell_type": "code",
   "execution_count": null,
   "metadata": {},
   "outputs": [],
   "source": [
    "missing = np.where(titanic_train[\"Age\"].isnull() == True)\n",
    "missing"
   ]
  },
  {
   "cell_type": "code",
   "execution_count": null,
   "metadata": {},
   "outputs": [],
   "source": [
    "len(missing[0])"
   ]
  },
  {
   "cell_type": "code",
   "execution_count": null,
   "metadata": {},
   "outputs": [],
   "source": [
    "index = np.where(titanic_train[\"Fare\"] == max(titanic_train[\"Fare\"]) )\n",
    "\n",
    "titanic_train.loc[index]"
   ]
  },
  {
   "cell_type": "code",
   "execution_count": null,
   "metadata": {},
   "outputs": [],
   "source": [
    "titanic_train[\"Family\"] = titanic_train[\"SibSp\"] + titanic_train[\"Parch\"]\n",
    "\n",
    "most_family = np.where(titanic_train[\"Family\"] == max(titanic_train[\"Family\"]))\n",
    "\n",
    "titanic_train.ix[most_family]"
   ]
  },
  {
   "cell_type": "code",
   "execution_count": 6,
   "metadata": {},
   "outputs": [
    {
     "name": "stdout",
     "output_type": "stream",
     "text": [
      "Labels: ['a', 'b', 'c']\n",
      "My data: [10, 20, 30]\n",
      "Dictionary: {'a': 10, 'b': 20, 'c': 30}\n"
     ]
    }
   ],
   "source": [
    "import numpy as np\n",
    "import pandas as pd\n",
    "\n",
    "labels = ['a','b','c']\n",
    "my_data = [10,20,30]\n",
    "arr = np.array(my_data)\n",
    "d = {'a':10,'b':20,'c':30}\n",
    "\n",
    "print (\"Labels:\", labels)\n",
    "print(\"My data:\", my_data)\n",
    "print(\"Dictionary:\", d)"
   ]
  },
  {
   "cell_type": "code",
   "execution_count": null,
   "metadata": {},
   "outputs": [],
   "source": [
    "pd.Series(data=my_data, index=labels) "
   ]
  },
  {
   "cell_type": "code",
   "execution_count": null,
   "metadata": {},
   "outputs": [],
   "source": [
    "print (\"\\nHolding numerical data\\n\",'-'*25, sep='')\n",
    "print(pd.Series(arr))\n"
   ]
  },
  {
   "cell_type": "code",
   "execution_count": null,
   "metadata": {},
   "outputs": [],
   "source": [
    "print (\"\\nHolding text labels\\n\",'-'*20, sep='')\n",
    "print(pd.Series(labels))\n"
   ]
  },
  {
   "cell_type": "code",
   "execution_count": null,
   "metadata": {},
   "outputs": [],
   "source": [
    "print (\"\\nHolding functions\\n\",'-'*20, sep='')\n",
    "print(pd.Series(data=[sum,print,len]))\n"
   ]
  },
  {
   "cell_type": "code",
   "execution_count": null,
   "metadata": {},
   "outputs": [],
   "source": [
    "print (\"\\nHolding objects from a dictionary\\n\",'-'*40, sep='')\n",
    "print(pd.Series(data=[d.keys, d.items, d.values]))"
   ]
  },
  {
   "cell_type": "code",
   "execution_count": null,
   "metadata": {},
   "outputs": [],
   "source": [
    "ser1 = pd.Series([1,2,3,4],['CA', 'OR', 'CO', 'AZ'])\n",
    "ser2 = pd.Series([1,2,5,4],['CA', 'OR', 'NV', 'AZ'])\n"
   ]
  },
  {
   "cell_type": "code",
   "execution_count": null,
   "metadata": {},
   "outputs": [],
   "source": [
    "print (\"\\nIndexing by name of the item/object (string identifier)\\n\",'-'*56, sep='')\n",
    "print(\"Value for CA in ser1:\", ser1['CA'])\n",
    "print(\"Value for AZ in ser1:\", ser1['AZ'])\n",
    "print(\"Value for NV in ser2:\", ser2['NV'])\n"
   ]
  },
  {
   "cell_type": "code",
   "execution_count": null,
   "metadata": {},
   "outputs": [],
   "source": [
    "print (\"\\nIndexing by number (positional value in the series)\\n\",'-'*52, sep='')\n",
    "print(\"Value for CA in ser1:\", ser1[0])\n",
    "print(\"Value for AZ in ser1:\", ser1[3])\n",
    "print(\"Value for NV in ser2:\", ser2[2])\n"
   ]
  },
  {
   "cell_type": "code",
   "execution_count": null,
   "metadata": {},
   "outputs": [],
   "source": [
    "print (\"\\nIndexing by a range\\n\",'-'*25, sep='')\n",
    "print (\"Value for OR, CO, and AZ in ser1:\\n\", ser1[1:4], sep='')\n",
    "\n",
    "print(ser1)"
   ]
  },
  {
   "cell_type": "code",
   "execution_count": null,
   "metadata": {},
   "outputs": [],
   "source": [
    "ser1 = pd.Series([1,2,3,4],['CA', 'OR', 'CO', 'AZ'])\n",
    "ser2 = pd.Series([1,2,5,4],['CA', 'OR', 'NV', 'AZ'])\n",
    "ser3 = ser1+ser2\n"
   ]
  },
  {
   "cell_type": "code",
   "execution_count": null,
   "metadata": {},
   "outputs": [],
   "source": [
    "print (\"\\nAfter adding the two series, the result looks like this...\\n\",'-'*59, sep='')\n",
    "print(ser3)\n",
    "print(\"\\nPython tries to add values where it finds common index name, and puts NaN where indices are missing\\n\")\n"
   ]
  },
  {
   "cell_type": "code",
   "execution_count": null,
   "metadata": {},
   "outputs": [],
   "source": [
    "print (\"\\nThe idea works even for multiplication...\\n\",'-'*43, sep='')\n",
    "print (ser1*ser2)\n"
   ]
  },
  {
   "cell_type": "code",
   "execution_count": null,
   "metadata": {},
   "outputs": [],
   "source": [
    "print (\"\\nOr even for combination of mathematical operations!\\n\",'-'*53, sep='')\n",
    "print (np.exp(ser1)+np.log10(ser2))"
   ]
  },
  {
   "cell_type": "code",
   "execution_count": 7,
   "metadata": {},
   "outputs": [
    {
     "name": "stdout",
     "output_type": "stream",
     "text": [
      "\n",
      "The data frame looks like\n",
      "---------------------------------------------\n",
      "          W         X         Y         Z\n",
      "A  2.706850  0.628133  0.907969  0.503826\n",
      "B  0.651118 -0.319318 -0.848077  0.605965\n",
      "C -2.018168  0.740122  0.528813 -0.589001\n",
      "D  0.188695 -0.758872 -0.933237  0.955057\n",
      "E  0.190794  1.978757  2.605967  0.683509\n"
     ]
    }
   ],
   "source": [
    "from numpy.random import randn as rn\n",
    "np.random.seed(101)\n",
    "matrix_data = rn(5,4)\n",
    "row_labels = ['A','B','C','D','E']\n",
    "column_headings = ['W','X','Y','Z']\n",
    "\n",
    "df = pd.DataFrame(data=matrix_data, index=row_labels, columns=column_headings)\n",
    "print(\"\\nThe data frame looks like\\n\",'-'*45, sep='')\n",
    "print(df)"
   ]
  },
  {
   "cell_type": "code",
   "execution_count": null,
   "metadata": {},
   "outputs": [],
   "source": [
    "print(\"\\nThe 'X' column\\n\",'-'*25, sep='')\n",
    "print(df['X'])"
   ]
  },
  {
   "cell_type": "code",
   "execution_count": null,
   "metadata": {},
   "outputs": [],
   "source": [
    "print(\"\\nType of the column: \", type(df['X']), sep='')\n",
    "print(\"\\nThe 'X' and 'Z' columns indexed by passing a list\\n\",'-'*55, sep='')\n",
    "print(df[['X','Z']])"
   ]
  },
  {
   "cell_type": "code",
   "execution_count": null,
   "metadata": {},
   "outputs": [],
   "source": [
    "print(\"\\nType of the pair of columns: \", type(df[['X','Z']]), sep='')\n",
    "print (\"\\nSo, for more than one column, the object turns into a DataFrame\")"
   ]
  },
  {
   "cell_type": "code",
   "execution_count": null,
   "metadata": {},
   "outputs": [],
   "source": [
    "print(\"\\nThe 'X' column accessed by DOT method (NOT recommended)\\n\",'-'*55, sep='')\n",
    "print(df.X)"
   ]
  },
  {
   "cell_type": "code",
   "execution_count": null,
   "metadata": {},
   "outputs": [],
   "source": [
    "print(\"\\nA column is created by assigning it in relation to an existing column\\n\",'-'*75, sep='')\n",
    "df['New'] = df['X']+df['Z']\n",
    "df['New (Sum of X and Z)'] = df['X']+df['Z']\n",
    "print(df)\n"
   ]
  },
  {
   "cell_type": "code",
   "execution_count": null,
   "metadata": {},
   "outputs": [],
   "source": [
    "print(\"\\nA column is dropped by using df.drop() method\\n\",'-'*55, sep='')\n",
    "df = df.drop('New', axis=1) # Notice the axis=1 option, axis = 0 is default, so one has to change it to 1\n",
    "print(df)\n"
   ]
  },
  {
   "cell_type": "code",
   "execution_count": null,
   "metadata": {},
   "outputs": [],
   "source": [
    "df1=df.drop('A')\n",
    "print(\"\\nA row (index) is dropped by using df.drop() method and axis=0\\n\",'-'*65, sep='')\n",
    "print(df1)\n"
   ]
  },
  {
   "cell_type": "code",
   "execution_count": null,
   "metadata": {},
   "outputs": [],
   "source": [
    "print(\"\\nAn in-place change can be done by making inplace=True in the drop method\\n\",'-'*75, sep='')\n",
    "df.drop('New (Sum of X and Z)', axis=1, inplace=True)\n",
    "print(df)"
   ]
  },
  {
   "cell_type": "code",
   "execution_count": null,
   "metadata": {},
   "outputs": [],
   "source": [
    "### Selecting/indexing Rows\n",
    "#* Label-based 'loc' method\n",
    "#* Index (numeric) 'iloc' method"
   ]
  },
  {
   "cell_type": "code",
   "execution_count": null,
   "metadata": {},
   "outputs": [],
   "source": [
    "print(\"\\nLabel-based 'loc' method can be used for selecting row(s)\\n\",'-'*60, sep='')\n",
    "print(\"\\nSingle row\\n\")\n",
    "print(df.loc['C'])\n"
   ]
  },
  {
   "cell_type": "code",
   "execution_count": null,
   "metadata": {},
   "outputs": [],
   "source": [
    "print(\"\\nMultiple rows\\n\")\n",
    "print(df.loc[['B','C']])\n"
   ]
  },
  {
   "cell_type": "code",
   "execution_count": null,
   "metadata": {},
   "outputs": [],
   "source": [
    "print(\"\\nIndex position based 'iloc' method can be used for selecting row(s)\\n\",'-'*70, sep='')\n",
    "print(\"\\nSingle row\\n\")\n",
    "print(df.iloc[2])\n"
   ]
  },
  {
   "cell_type": "code",
   "execution_count": null,
   "metadata": {},
   "outputs": [],
   "source": [
    "print(\"\\nMultiple rows\\n\")\n",
    "print(df.iloc[[1,2]])"
   ]
  },
  {
   "cell_type": "code",
   "execution_count": null,
   "metadata": {},
   "outputs": [],
   "source": [
    "#### Subsetting DataFrame"
   ]
  },
  {
   "cell_type": "code",
   "execution_count": 11,
   "metadata": {},
   "outputs": [],
   "source": [
    "np.random.seed(101)\n",
    "matrix_data = rn(5,4)\n",
    "row_labels = ['A','B','C','D','E']\n",
    "column_headings = ['W','X','Y','Z']\n",
    "df = pd.DataFrame(data=matrix_data, index=row_labels, columns=column_headings)\n",
    "\n"
   ]
  },
  {
   "cell_type": "code",
   "execution_count": 12,
   "metadata": {},
   "outputs": [
    {
     "name": "stdout",
     "output_type": "stream",
     "text": [
      "\n",
      "The DatFrame\n",
      "---------------------------------------------\n",
      "          W         X         Y         Z\n",
      "A  2.706850  0.628133  0.907969  0.503826\n",
      "B  0.651118 -0.319318 -0.848077  0.605965\n",
      "C -2.018168  0.740122  0.528813 -0.589001\n",
      "D  0.188695 -0.758872 -0.933237  0.955057\n",
      "E  0.190794  1.978757  2.605967  0.683509\n"
     ]
    }
   ],
   "source": [
    "print(\"\\nThe DatFrame\\n\",'-'*45, sep='')\n",
    "print(df)\n"
   ]
  },
  {
   "cell_type": "code",
   "execution_count": 13,
   "metadata": {},
   "outputs": [
    {
     "name": "stdout",
     "output_type": "stream",
     "text": [
      "\n",
      "Element at row 'B' and column 'Y' is\n",
      "\n",
      "-0.8480769834036315\n"
     ]
    }
   ],
   "source": [
    "print(\"\\nElement at row 'B' and column 'Y' is\\n\") \n",
    "print(df.loc['B','Y'])\n"
   ]
  },
  {
   "cell_type": "code",
   "execution_count": 14,
   "metadata": {},
   "outputs": [
    {
     "name": "stdout",
     "output_type": "stream",
     "text": [
      "\n",
      "Subset comprising of rows B and D, and columns W and Y, is\n",
      "\n"
     ]
    },
    {
     "data": {
      "text/html": [
       "<div>\n",
       "<style scoped>\n",
       "    .dataframe tbody tr th:only-of-type {\n",
       "        vertical-align: middle;\n",
       "    }\n",
       "\n",
       "    .dataframe tbody tr th {\n",
       "        vertical-align: top;\n",
       "    }\n",
       "\n",
       "    .dataframe thead th {\n",
       "        text-align: right;\n",
       "    }\n",
       "</style>\n",
       "<table border=\"1\" class=\"dataframe\">\n",
       "  <thead>\n",
       "    <tr style=\"text-align: right;\">\n",
       "      <th></th>\n",
       "      <th>W</th>\n",
       "      <th>Y</th>\n",
       "    </tr>\n",
       "  </thead>\n",
       "  <tbody>\n",
       "    <tr>\n",
       "      <th>B</th>\n",
       "      <td>0.651118</td>\n",
       "      <td>-0.848077</td>\n",
       "    </tr>\n",
       "    <tr>\n",
       "      <th>D</th>\n",
       "      <td>0.188695</td>\n",
       "      <td>-0.933237</td>\n",
       "    </tr>\n",
       "  </tbody>\n",
       "</table>\n",
       "</div>"
      ],
      "text/plain": [
       "          W         Y\n",
       "B  0.651118 -0.848077\n",
       "D  0.188695 -0.933237"
      ]
     },
     "execution_count": 14,
     "metadata": {},
     "output_type": "execute_result"
    }
   ],
   "source": [
    "print(\"\\nSubset comprising of rows B and D, and columns W and Y, is\\n\")\n",
    "df.loc[['B','D'],['W','Y']]"
   ]
  },
  {
   "cell_type": "code",
   "execution_count": 15,
   "metadata": {},
   "outputs": [
    {
     "name": "stdout",
     "output_type": "stream",
     "text": [
      "\n",
      "The DataFrame\n",
      "---------------------------------------------\n",
      "          W         X         Y         Z\n",
      "A  2.706850  0.628133  0.907969  0.503826\n",
      "B  0.651118 -0.319318 -0.848077  0.605965\n",
      "C -2.018168  0.740122  0.528813 -0.589001\n",
      "D  0.188695 -0.758872 -0.933237  0.955057\n",
      "E  0.190794  1.978757  2.605967  0.683509\n"
     ]
    }
   ],
   "source": [
    "print(\"\\nThe DataFrame\\n\",'-'*45, sep='')\n",
    "print(df)\n"
   ]
  },
  {
   "cell_type": "code",
   "execution_count": 16,
   "metadata": {},
   "outputs": [
    {
     "name": "stdout",
     "output_type": "stream",
     "text": [
      "\n",
      "Boolean DataFrame(s) where we are checking if the values are greater than 0\n",
      "---------------------------------------------------------------------------\n",
      "       W      X      Y      Z\n",
      "A   True   True   True   True\n",
      "B   True  False  False   True\n",
      "C  False   True   True  False\n",
      "D   True  False  False   True\n",
      "E   True   True   True   True\n"
     ]
    }
   ],
   "source": [
    "print(\"\\nBoolean DataFrame(s) where we are checking if the values are greater than 0\\n\",'-'*75, sep='')\n",
    "print(df>0)\n"
   ]
  },
  {
   "cell_type": "code",
   "execution_count": 17,
   "metadata": {},
   "outputs": [
    {
     "name": "stdout",
     "output_type": "stream",
     "text": [
      "\n",
      "\n",
      "       W      X      Y      Z\n",
      "A   True   True   True   True\n",
      "B   True  False  False   True\n",
      "C  False   True   True  False\n"
     ]
    }
   ],
   "source": [
    "print(\"\\n\")\n",
    "print(df.loc[['A','B','C']]>0)\n"
   ]
  },
  {
   "cell_type": "code",
   "execution_count": 18,
   "metadata": {},
   "outputs": [
    {
     "name": "stdout",
     "output_type": "stream",
     "text": [
      "\n",
      "DataFrame indexed by boolean dataframe\n",
      "---------------------------------------------\n",
      "          W         X         Y         Z\n",
      "A  2.706850  0.628133  0.907969  0.503826\n",
      "B  0.651118       NaN       NaN  0.605965\n",
      "C       NaN  0.740122  0.528813       NaN\n",
      "D  0.188695       NaN       NaN  0.955057\n",
      "E  0.190794  1.978757  2.605967  0.683509\n"
     ]
    }
   ],
   "source": [
    "booldf = df>0\n",
    "print(\"\\nDataFrame indexed by boolean dataframe\\n\",'-'*45, sep='')\n",
    "print(df[booldf])"
   ]
  },
  {
   "cell_type": "code",
   "execution_count": 21,
   "metadata": {},
   "outputs": [],
   "source": [
    "matrix_data = np.matrix('22,66,140;42,70,148;30,62,125;35,68,160;25,62,152')\n",
    "row_labels = ['A','B','C','D','E']\n",
    "column_headings = ['Age', 'Height', 'Weight']\n"
   ]
  },
  {
   "cell_type": "code",
   "execution_count": 22,
   "metadata": {},
   "outputs": [
    {
     "name": "stdout",
     "output_type": "stream",
     "text": [
      "\n",
      "A new DataFrame\n",
      "-------------------------\n",
      "   Age  Height  Weight\n",
      "A   22      66     140\n",
      "B   42      70     148\n",
      "C   30      62     125\n",
      "D   35      68     160\n",
      "E   25      62     152\n"
     ]
    }
   ],
   "source": [
    "df = pd.DataFrame(data=matrix_data, index=row_labels, columns=column_headings)\n",
    "print(\"\\nA new DataFrame\\n\",'-'*25, sep='')\n",
    "print(df)\n"
   ]
  },
  {
   "cell_type": "code",
   "execution_count": 23,
   "metadata": {},
   "outputs": [
    {
     "name": "stdout",
     "output_type": "stream",
     "text": [
      "\n",
      "Rows with Height > 65 inch\n",
      "-----------------------------------\n",
      "   Age  Height  Weight\n",
      "A   22      66     140\n",
      "B   42      70     148\n",
      "D   35      68     160\n"
     ]
    }
   ],
   "source": [
    "print(\"\\nRows with Height > 65 inch\\n\",'-'*35, sep='')\n",
    "print(df[df['Height']>65])\n"
   ]
  },
  {
   "cell_type": "code",
   "execution_count": 24,
   "metadata": {},
   "outputs": [],
   "source": [
    "booldf1 = df['Height']>65\n",
    "booldf2 = df['Weight']>145\n"
   ]
  },
  {
   "cell_type": "code",
   "execution_count": 27,
   "metadata": {},
   "outputs": [
    {
     "name": "stdout",
     "output_type": "stream",
     "text": [
      "\n",
      "Rows with Height > 65 inch and Weight >145 lbs\n",
      "-------------------------------------------------------\n",
      "   Age  Height  Weight\n",
      "B   42      70     148\n",
      "D   35      68     160\n"
     ]
    }
   ],
   "source": [
    "print(\"\\nRows with Height > 65 inch and Weight >145 lbs\\n\",'-'*55, sep='')\n",
    "print(df[(booldf1) & (booldf2)])\n"
   ]
  },
  {
   "cell_type": "code",
   "execution_count": 35,
   "metadata": {},
   "outputs": [
    {
     "name": "stdout",
     "output_type": "stream",
     "text": [
      "\n",
      "DataFrame with only Age and Weight columns whose Height > 65 inch\n",
      "--------------------------------------------------------------------\n",
      "   Age  Weight\n",
      "A   22     140\n",
      "B   42     148\n",
      "D   35     160\n"
     ]
    }
   ],
   "source": [
    "print(\"\\nDataFrame with only Age and Weight columns whose Height > 65 inch\\n\",'-'*68, sep='')\n",
    "print(df[booldf1][['Age','Weight']])"
   ]
  },
  {
   "cell_type": "code",
   "execution_count": 28,
   "metadata": {},
   "outputs": [],
   "source": [
    "matrix_data = np.matrix('22,66,140;42,70,148;30,62,125;35,68,160;25,62,152')\n",
    "row_labels = ['A','B','C','D','E']\n",
    "column_headings = ['Age', 'Height', 'Weight']\n"
   ]
  },
  {
   "cell_type": "code",
   "execution_count": 29,
   "metadata": {},
   "outputs": [
    {
     "name": "stdout",
     "output_type": "stream",
     "text": [
      "\n",
      "The DataFrame\n",
      "-------------------------\n",
      "   Age  Height  Weight\n",
      "A   22      66     140\n",
      "B   42      70     148\n",
      "C   30      62     125\n",
      "D   35      68     160\n",
      "E   25      62     152\n"
     ]
    }
   ],
   "source": [
    "df = pd.DataFrame(data=matrix_data, index=row_labels, columns=column_headings)\n",
    "print(\"\\nThe DataFrame\\n\",'-'*25, sep='')\n",
    "print(df)\n"
   ]
  },
  {
   "cell_type": "code",
   "execution_count": 36,
   "metadata": {},
   "outputs": [
    {
     "name": "stdout",
     "output_type": "stream",
     "text": [
      "\n",
      "After resetting index\n",
      "-----------------------------------\n",
      "  index  Age  Height  Weight Profession\n",
      "0     A   22      66     140    Student\n",
      "1     B   42      70     148    Teacher\n",
      "2     C   30      62     125   Engineer\n",
      "3     D   35      68     160     Doctor\n",
      "4     E   25      62     152      Nurse\n"
     ]
    }
   ],
   "source": [
    "print(\"\\nAfter resetting index\\n\",'-'*35, sep='')\n",
    "print(df.reset_index())\n"
   ]
  },
  {
   "cell_type": "code",
   "execution_count": 39,
   "metadata": {},
   "outputs": [
    {
     "name": "stdout",
     "output_type": "stream",
     "text": [
      "\n",
      "After resetting index with 'drop' option TRUE\n",
      "---------------------------------------------\n",
      "   Age  Height  Weight Profession\n",
      "0   22      66     140    Student\n",
      "1   42      70     148    Teacher\n",
      "2   30      62     125   Engineer\n",
      "3   35      68     160     Doctor\n",
      "4   25      62     152      Nurse\n"
     ]
    }
   ],
   "source": [
    "print(\"\\nAfter resetting index with 'drop' option TRUE\\n\",'-'*45, sep='')\n",
    "print(df.reset_index(drop=True))\n"
   ]
  },
  {
   "cell_type": "code",
   "execution_count": 40,
   "metadata": {},
   "outputs": [
    {
     "name": "stdout",
     "output_type": "stream",
     "text": [
      "\n",
      "Adding a new column 'Profession'\n",
      "---------------------------------------------\n",
      "   Age  Height  Weight Profession\n",
      "A   22      66     140    Student\n",
      "B   42      70     148    Teacher\n",
      "C   30      62     125   Engineer\n",
      "D   35      68     160     Doctor\n",
      "E   25      62     152      Nurse\n"
     ]
    },
    {
     "data": {
      "text/plain": [
       "list"
      ]
     },
     "execution_count": 40,
     "metadata": {},
     "output_type": "execute_result"
    }
   ],
   "source": [
    "print(\"\\nAdding a new column 'Profession'\\n\",'-'*45, sep='')\n",
    "df['Profession'] = \"Student Teacher Engineer Doctor Nurse\".split()\n",
    "print(df)"
   ]
  },
  {
   "cell_type": "code",
   "execution_count": 41,
   "metadata": {},
   "outputs": [
    {
     "name": "stdout",
     "output_type": "stream",
     "text": [
      "\n",
      "Setting 'Profession' column as index\n",
      "---------------------------------------------\n",
      "            Age  Height  Weight\n",
      "Profession                     \n",
      "Student      22      66     140\n",
      "Teacher      42      70     148\n",
      "Engineer     30      62     125\n",
      "Doctor       35      68     160\n",
      "Nurse        25      62     152\n"
     ]
    }
   ],
   "source": [
    "print(\"\\nSetting 'Profession' column as index\\n\",'-'*45, sep='')\n",
    "print (df.set_index('Profession'))"
   ]
  },
  {
   "cell_type": "code",
   "execution_count": 43,
   "metadata": {},
   "outputs": [],
   "source": [
    "#multi-indexing\n",
    "# Index Levels\n",
    "outside = ['G1','G1','G1','G2','G2','G2']\n",
    "inside = [1,2,3,1,2,3]\n",
    "hier_index = list(zip(outside,inside))\n"
   ]
  },
  {
   "cell_type": "code",
   "execution_count": 44,
   "metadata": {},
   "outputs": [
    {
     "name": "stdout",
     "output_type": "stream",
     "text": [
      "\n",
      "Tuple pairs after the zip and list command\n",
      "---------------------------------------------\n",
      "[('G1', 1), ('G1', 2), ('G1', 3), ('G2', 1), ('G2', 2), ('G2', 3)]\n"
     ]
    }
   ],
   "source": [
    "print(\"\\nTuple pairs after the zip and list command\\n\",'-'*45, sep='')\n",
    "print(hier_index)\n"
   ]
  },
  {
   "cell_type": "code",
   "execution_count": 45,
   "metadata": {},
   "outputs": [
    {
     "name": "stdout",
     "output_type": "stream",
     "text": [
      "\n",
      "Index hierarchy\n",
      "-------------------------\n",
      "MultiIndex(levels=[['G1', 'G2'], [1, 2, 3]],\n",
      "           labels=[[0, 0, 0, 1, 1, 1], [0, 1, 2, 0, 1, 2]])\n"
     ]
    }
   ],
   "source": [
    "hier_index = pd.MultiIndex.from_tuples(hier_index)\n",
    "print(\"\\nIndex hierarchy\\n\",'-'*25, sep='')\n",
    "print(hier_index)\n"
   ]
  },
  {
   "cell_type": "code",
   "execution_count": 46,
   "metadata": {},
   "outputs": [
    {
     "name": "stdout",
     "output_type": "stream",
     "text": [
      "\n",
      "Index hierarchy type\n",
      "-------------------------\n",
      "<class 'pandas.core.indexes.multi.MultiIndex'>\n"
     ]
    }
   ],
   "source": [
    "print(\"\\nIndex hierarchy type\\n\",'-'*25, sep='')\n",
    "print(type(hier_index))\n"
   ]
  },
  {
   "cell_type": "code",
   "execution_count": 47,
   "metadata": {},
   "outputs": [
    {
     "name": "stdout",
     "output_type": "stream",
     "text": [
      "\n",
      "Creating DataFrame with multi-index\n",
      "-------------------------------------\n",
      "         A     B     C\n",
      "G1 1  2.71  0.63  0.91\n",
      "   2  0.50  0.65 -0.32\n",
      "   3 -0.85  0.61 -2.02\n",
      "G2 1  0.74  0.53 -0.59\n",
      "   2  0.19 -0.76 -0.93\n",
      "   3  0.96  0.19  1.98\n"
     ]
    }
   ],
   "source": [
    "print(\"\\nCreating DataFrame with multi-index\\n\",'-'*37, sep='')\n",
    "np.random.seed(101)\n",
    "df1 = pd.DataFrame(data=np.round(rn(6,3),2), index= hier_index, columns= ['A','B','C'])\n",
    "print(df1)\n"
   ]
  },
  {
   "cell_type": "code",
   "execution_count": 48,
   "metadata": {},
   "outputs": [
    {
     "name": "stdout",
     "output_type": "stream",
     "text": [
      "\n",
      "Subsetting multi-index DataFrame using two 'loc' methods\n",
      "------------------------------------------------------------\n",
      "      B     C\n",
      "1  0.53 -0.59\n",
      "3  0.19  1.98\n"
     ]
    }
   ],
   "source": [
    "print(\"\\nSubsetting multi-index DataFrame using two 'loc' methods\\n\",'-'*60, sep='')\n",
    "print(df1.loc['G2'].loc[[1,3]][['B','C']])\n"
   ]
  },
  {
   "cell_type": "code",
   "execution_count": 49,
   "metadata": {},
   "outputs": [
    {
     "name": "stdout",
     "output_type": "stream",
     "text": [
      "\n",
      "Naming the indices by 'index.names' method\n",
      "---------------------------------------------\n",
      "                A     B     C\n",
      "Outer Inner                  \n",
      "G1    1      2.71  0.63  0.91\n",
      "      2      0.50  0.65 -0.32\n",
      "      3     -0.85  0.61 -2.02\n",
      "G2    1      0.74  0.53 -0.59\n",
      "      2      0.19 -0.76 -0.93\n",
      "      3      0.96  0.19  1.98\n"
     ]
    }
   ],
   "source": [
    "print(\"\\nNaming the indices by 'index.names' method\\n\",'-'*45, sep='')\n",
    "df1.index.names=['Outer', 'Inner']\n",
    "print(df1)"
   ]
  },
  {
   "cell_type": "code",
   "execution_count": null,
   "metadata": {},
   "outputs": [],
   "source": [
    "#cross tabulation like pivot table"
   ]
  },
  {
   "cell_type": "code",
   "execution_count": 50,
   "metadata": {},
   "outputs": [
    {
     "name": "stdout",
     "output_type": "stream",
     "text": [
      "\n",
      "Grabbing a cross-section from outer level\n",
      "---------------------------------------------\n",
      "          A     B     C\n",
      "Inner                  \n",
      "1      2.71  0.63  0.91\n",
      "2      0.50  0.65 -0.32\n",
      "3     -0.85  0.61 -2.02\n"
     ]
    }
   ],
   "source": [
    "print(\"\\nGrabbing a cross-section from outer level\\n\",'-'*45, sep='')\n",
    "print(df1.xs('G1'))\n"
   ]
  },
  {
   "cell_type": "code",
   "execution_count": 52,
   "metadata": {},
   "outputs": [
    {
     "name": "stdout",
     "output_type": "stream",
     "text": [
      "\n",
      "Grabbing a cross-section from inner level (for all outer levels)\n",
      "-----------------------------------------------------------------\n",
      "          A     B     C\n",
      "Outer                  \n",
      "G1     0.50  0.65 -0.32\n",
      "G2     0.19 -0.76 -0.93\n"
     ]
    }
   ],
   "source": [
    "print(\"\\nGrabbing a cross-section from inner level (for all outer levels)\\n\",'-'*65, sep='')\n",
    "print(df1.xs(2,level='Inner'))"
   ]
  },
  {
   "cell_type": "code",
   "execution_count": null,
   "metadata": {},
   "outputs": [],
   "source": []
  }
 ],
 "metadata": {
  "kernelspec": {
   "display_name": "Python 3",
   "language": "python",
   "name": "python3"
  },
  "language_info": {
   "codemirror_mode": {
    "name": "ipython",
    "version": 3
   },
   "file_extension": ".py",
   "mimetype": "text/x-python",
   "name": "python",
   "nbconvert_exporter": "python",
   "pygments_lexer": "ipython3",
   "version": "3.7.0"
  }
 },
 "nbformat": 4,
 "nbformat_minor": 2
}
