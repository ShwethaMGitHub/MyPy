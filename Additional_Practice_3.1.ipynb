{
 "cells": [
  {
   "cell_type": "markdown",
   "metadata": {},
   "source": [
    "1) Write a python program which creates a class named Cone and write a\n",
    "function calculate_area which calculates the area of the Cone.\n",
    "Sample Execution:\n",
    "Please enter the radius of the cone: 4\n",
    "Please enter the height of the cone: 5\n",
    "Area of a cone with radius: 4.00 and height: 5.00 is: 83.73"
   ]
  },
  {
   "cell_type": "code",
   "execution_count": 20,
   "metadata": {},
   "outputs": [],
   "source": [
    "import math as math\n",
    "class Cone:\n",
    "    def calculate_area(self):\n",
    "        radius = float(input(\"Please enter the radius of the cone:\"))\n",
    "        height = float(input(\"Please enter the height of the cone:\"))\n",
    "        Area = math.pi * radius * (radius + (math.sqrt((height*height) + (radius * radius))))\n",
    "        print(\"Area of a cone with radius: %2f and height: %2f is: %2f\" % (radius,height,Area))\n",
    "    def calcualte_volume():\n",
    "        radius = float(input(\"Please enter the radius of the cone:\"))\n",
    "        height = float(input(\"Please enter the height of the cone:\"))\n",
    "        Volume = math.pi * radius * radius * (height / 3)\n",
    "        print(\"Volume of a cone with radius: %2f and height: %2f is: %2f\" % (radius,height,Volume))"
   ]
  },
  {
   "cell_type": "code",
   "execution_count": 21,
   "metadata": {},
   "outputs": [
    {
     "name": "stdout",
     "output_type": "stream",
     "text": [
      "Please enter the radius of the cone:4\n",
      "Please enter the height of the cone:5\n",
      "Area of a cone with radius: 4.000000 and height: 5.000000 is: 130.729515\n"
     ]
    },
    {
     "ename": "AttributeError",
     "evalue": "type object 'Cone' has no attribute 'calculate_volume'",
     "output_type": "error",
     "traceback": [
      "\u001b[1;31m---------------------------------------------------------------------------\u001b[0m",
      "\u001b[1;31mAttributeError\u001b[0m                            Traceback (most recent call last)",
      "\u001b[1;32m<ipython-input-21-1145202d1876>\u001b[0m in \u001b[0;36m<module>\u001b[1;34m()\u001b[0m\n\u001b[0;32m      1\u001b[0m \u001b[0mConeArea\u001b[0m \u001b[1;33m=\u001b[0m \u001b[0mCone\u001b[0m\u001b[1;33m.\u001b[0m\u001b[0mcalculate_area\u001b[0m\u001b[1;33m(\u001b[0m\u001b[1;33m)\u001b[0m\u001b[1;33m\u001b[0m\u001b[0m\n\u001b[1;32m----> 2\u001b[1;33m \u001b[0mConeVolume\u001b[0m \u001b[1;33m=\u001b[0m \u001b[0mCone\u001b[0m\u001b[1;33m.\u001b[0m\u001b[0mcalculate_volume\u001b[0m\u001b[1;33m(\u001b[0m\u001b[1;33m)\u001b[0m\u001b[1;33m\u001b[0m\u001b[0m\n\u001b[0m",
      "\u001b[1;31mAttributeError\u001b[0m: type object 'Cone' has no attribute 'calculate_volume'"
     ]
    }
   ],
   "source": [
    "ConeArea = Cone.calculate_area()\n",
    "ConeVolume = Cone.calculate_volume()"
   ]
  },
  {
   "cell_type": "code",
   "execution_count": null,
   "metadata": {},
   "outputs": [],
   "source": []
  }
 ],
 "metadata": {
  "kernelspec": {
   "display_name": "Python 3",
   "language": "python",
   "name": "python3"
  },
  "language_info": {
   "codemirror_mode": {
    "name": "ipython",
    "version": 3
   },
   "file_extension": ".py",
   "mimetype": "text/x-python",
   "name": "python",
   "nbconvert_exporter": "python",
   "pygments_lexer": "ipython3",
   "version": "3.7.0"
  }
 },
 "nbformat": 4,
 "nbformat_minor": 2
}
